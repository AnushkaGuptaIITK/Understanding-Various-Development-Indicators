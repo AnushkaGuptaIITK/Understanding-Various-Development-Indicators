{
  "nbformat": 4,
  "nbformat_minor": 0,
  "metadata": {
    "colab": {
      "provenance": []
    },
    "kernelspec": {
      "name": "python3",
      "display_name": "Python 3"
    },
    "language_info": {
      "name": "python"
    }
  },
  "cells": [
    {
      "cell_type": "markdown",
      "source": [
        "# **HUMAN DEVELOPMENT INDEX**"
      ],
      "metadata": {
        "id": "QwnIEGG8sxDK"
      }
    },
    {
      "cell_type": "code",
      "execution_count": null,
      "metadata": {
        "id": "3rXBQ70wMj4C"
      },
      "outputs": [],
      "source": [
        "import numpy as np\n",
        "import pandas as pd\n",
        "import matplotlib.pyplot as plt"
      ]
    },
    {
      "cell_type": "code",
      "source": [
        "A=pd.read_csv('India.csv')    #fetching data\n",
        "\n",
        "x1=np.arange(1990,2020)  #Year\n",
        "x2=A.iloc[35:65,1]       #Life Expectancy at Birth\n",
        "x3=A.iloc[65:95,1]       #Expected Years of Schooling\n",
        "x4=A.iloc[95:125,1]      #Mean Years of Schooling\n",
        "x5=A.iloc[125:155,1]     #Gross National Income Per Capita(2017 PPP$)\n",
        "\n",
        "y=A.iloc[5:35,1]         #Human Development Index(value)"
      ],
      "metadata": {
        "id": "QMCLBU1IQ5xX"
      },
      "execution_count": null,
      "outputs": []
    },
    {
      "cell_type": "code",
      "source": [
        "#convert all data to numpy array for further application\n",
        "x2=np.array(x2)\n",
        "x3=np.array(x3)\n",
        "x4=np.array(x4)\n",
        "x5=np.array(x5)\n",
        "y=np.array(y)\n",
        "print(x1.shape,x2.shape,x3.shape,x4.shape,x5.shape,y.shape)"
      ],
      "metadata": {
        "colab": {
          "base_uri": "https://localhost:8080/"
        },
        "id": "wf7eIeFMWH8K",
        "outputId": "0f1c9896-3605-455c-a125-03160496e97b"
      },
      "execution_count": null,
      "outputs": [
        {
          "output_type": "stream",
          "name": "stdout",
          "text": [
            "(30,) (30,) (30,) (30,) (30,) (30,)\n"
          ]
        }
      ]
    },
    {
      "cell_type": "code",
      "source": [
        "x1=x1.reshape(30,1)\n",
        "x2=x2.reshape(30,1)\n",
        "x3=x3.reshape(30,1)\n",
        "x4=x4.reshape(30,1)\n",
        "x5=x5.reshape(30,1)\n",
        "x_1=np.append(x1,x2,axis=1)\n",
        "x_2=np.append(x3,x4,axis=1)\n",
        "x_3=np.append(x_1,x_2,axis=1)\n",
        "x=np.append(x_3,x5,axis=1)"
      ],
      "metadata": {
        "id": "dvs5IcMBRxCw"
      },
      "execution_count": null,
      "outputs": []
    },
    {
      "cell_type": "code",
      "source": [
        "#INDEPENDENT VARIABLES\n",
        "print(x.shape)\n",
        "x       #contains five columns(year,life expectancy at birth,Expected Years of Schooling,Mean Years of Schooling,Gross National Income Per Capita(2017 PPP$))"
      ],
      "metadata": {
        "colab": {
          "base_uri": "https://localhost:8080/"
        },
        "id": "z5XajdRVYKZ2",
        "outputId": "69325db0-c678-4f72-9d79-341652245179"
      },
      "execution_count": null,
      "outputs": [
        {
          "output_type": "stream",
          "name": "stdout",
          "text": [
            "(30, 5)\n"
          ]
        },
        {
          "output_type": "execute_result",
          "data": {
            "text/plain": [
              "array([[1990, '57.865', '7.634806667', '2.96', '1787.071411'],\n",
              "       [1991, '58.353', '7.744633333', '3.07', '1765.563014'],\n",
              "       [1992, '58.851', '7.85446', '3.18', '1825.445774'],\n",
              "       [1993, '59.349', '7.964286667', '3.29', '1877.489962'],\n",
              "       [1994, '59.84', '8.074113333', '3.4', '1966.185824'],\n",
              "       [1995, '60.32', '8.18394', '3.51', '2078.120867'],\n",
              "       [1996, '60.783', '8.20939', '3.69', '2196.976893'],\n",
              "       [1997, '61.233', '8.24335', '3.87', '2245.35313'],\n",
              "       [1998, '61.669', '8.274683333', '4.05', '2340.792988'],\n",
              "       [1999, '62.093', '8.306016667', '4.23', '2504.371442'],\n",
              "       [2000, '62.505', '8.33735', '4.41', '2548.048438'],\n",
              "       [2001, '62.907', '8.3659', '4.492', '2630.025182'],\n",
              "       [2002, '63.304', '8.55608', '4.574', '2689.210763'],\n",
              "       [2003, '63.699', '9.15097', '4.656', '2851.163987'],\n",
              "       [2004, '64.095', '9.4142975', '4.738', '3028.796756'],\n",
              "       [2005, '64.5', '9.677625', '4.82', '3216.752351'],\n",
              "       [2006, '64.918', '9.9409525', '4.934', '3420.533034'],\n",
              "       [2007, '65.35', '10.20629', '5.048', '3640.133556'],\n",
              "       [2008, '65.794', '10.50854', '5.162', '3691.285128'],\n",
              "       [2009, '66.244', '10.44186', '5.276', '3925.787984'],\n",
              "       [2010, '66.693', '10.75616', '5.39', '4181.627173'],\n",
              "       [2011, '67.13', '11.31447', '5.30191', '4352.963324'],\n",
              "       [2012, '67.545', '11.54122', '5.538722786', '4520.568478'],\n",
              "       [2013, '67.931', '11.55511', '5.775532787', '4749.422403'],\n",
              "       [2014, '68.286', '11.87868', '6.012342787', '5047.230887'],\n",
              "       [2015, '68.607', '11.95788', '6.249152787', '5391.426705'],\n",
              "       [2016, '68.897', '11.94596', '6.350642787', '5722.265297'],\n",
              "       [2017, '69.165', '12.34237', '6.452132788', '6119.130532'],\n",
              "       [2018, '69.416', '12.16229', '6.452132788', '6427.179856'],\n",
              "       [2019, '69.66', '12.16229', '6.5', '6681.346904']], dtype=object)"
            ]
          },
          "metadata": {},
          "execution_count": 9
        }
      ]
    },
    {
      "cell_type": "code",
      "source": [
        "#DEPENDENT VARIABLE\n",
        "y"
      ],
      "metadata": {
        "colab": {
          "base_uri": "https://localhost:8080/"
        },
        "id": "Q6YCeJgTYVf8",
        "outputId": "2622f7bb-0104-4bb8-fe11-1d8dacac9e8e"
      },
      "execution_count": null,
      "outputs": [
        {
          "output_type": "execute_result",
          "data": {
            "text/plain": [
              "array(['0.429', '0.433', '0.44', '0.446', '0.453', '0.461', '0.468',\n",
              "       '0.474', '0.481', '0.489', '0.495', '0.499', '0.506', '0.518',\n",
              "       '0.527', '0.536', '0.546', '0.555', '0.563', '0.569', '0.579',\n",
              "       '0.588', '0.597', '0.604', '0.616', '0.624', '0.63', '0.64',\n",
              "       '0.642', '0.645'], dtype=object)"
            ]
          },
          "metadata": {},
          "execution_count": 10
        }
      ]
    },
    {
      "cell_type": "code",
      "source": [
        "plt.plot(x1,y,color=\"red\")\n",
        "plt.xlabel(\"years\")\n",
        "plt.ylabel(\"HDI (values)\")\n",
        "plt.show()"
      ],
      "metadata": {
        "colab": {
          "base_uri": "https://localhost:8080/",
          "height": 279
        },
        "id": "5_Jo6eufTk8K",
        "outputId": "78e1a0b1-13d3-4fc4-e32d-ea57e7f959ab"
      },
      "execution_count": null,
      "outputs": [
        {
          "output_type": "display_data",
          "data": {
            "text/plain": [
              "<Figure size 432x288 with 1 Axes>"
            ],
            "image/png": "[encoded data removed]"
          },
          "metadata": {
            "needs_background": "light"
          }
        }
      ]
    },
    {
      "cell_type": "code",
      "source": [
        "#loading testing data and training data\n",
        "from sklearn.model_selection import train_test_split\n",
        "x_train, x_test, y_train, y_test = train_test_split(x,y,test_size=0.3,random_state=1)"
      ],
      "metadata": {
        "id": "qd_flGvdYiZE"
      },
      "execution_count": null,
      "outputs": []
    },
    {
      "cell_type": "code",
      "source": [
        "print(x_train.shape,x_test.shape)       #here we split feature in 30% test set and 70% train set"
      ],
      "metadata": {
        "colab": {
          "base_uri": "https://localhost:8080/"
        },
        "id": "hvclmKY4tmnB",
        "outputId": "49ab7dfd-9b25-4f8b-a937-ba739cf5c962"
      },
      "execution_count": null,
      "outputs": [
        {
          "output_type": "stream",
          "name": "stdout",
          "text": [
            "(21, 5) (9, 5)\n"
          ]
        }
      ]
    },
    {
      "cell_type": "code",
      "source": [
        "from sklearn import linear_model\n",
        "from sklearn.metrics import mean_squared_error,r2_score\n",
        "\n",
        "model=linear_model.LinearRegression()"
      ],
      "metadata": {
        "id": "NbOwgmYfZZLu"
      },
      "execution_count": null,
      "outputs": []
    },
    {
      "cell_type": "code",
      "source": [
        "\"\"\"\n",
        "from sklearn.tree import DecisionTreeRegressor\n",
        "model = DecisionTreeRegressor(random_state = 0)\n",
        "model.fit(x_train, y_train)\n",
        "y_pred=model.predict(x_test)\n",
        "print(\"mean squared error is:\",mean_squared_error(y_test,y_pred))\n",
        "print(\"r2 score is:\",r2_score(y_test,y_pred))\n",
        "\"\"\"\n",
        "#we got accuracy of 97.42% using decision tree regressor model."
      ],
      "metadata": {
        "colab": {
          "base_uri": "https://localhost:8080/"
        },
        "id": "wTlVmb_tcxlh",
        "outputId": "b60ba1a5-a550-44a6-e7d5-84806d22d342"
      },
      "execution_count": null,
      "outputs": [
        {
          "output_type": "stream",
          "name": "stdout",
          "text": [
            "mean squared error is: 7.85555555555557e-05\n",
            "r2 score is: 0.9742542929742501\n"
          ]
        }
      ]
    },
    {
      "cell_type": "code",
      "source": [
        "\"\"\"\n",
        "from sklearn.ensemble import RandomForestRegressor\n",
        "model = RandomForestRegressor(n_estimators =10, random_state = 0)\n",
        "model.fit(x_train, y_train)\n",
        "y_pred=model.predict(x_test)\n",
        "print(\"mean squared error is:\",mean_squared_error(y_test,y_pred))\n",
        "print(\"r2 score is:\",r2_score(y_test,y_pred))\n",
        "\"\"\"\n",
        "#we got accuracy of 98.91% using random forst regressor model."
      ],
      "metadata": {
        "colab": {
          "base_uri": "https://localhost:8080/"
        },
        "id": "xDrND8dUdATg",
        "outputId": "fcdaf30f-e27c-43de-b3fa-e390bd584283"
      },
      "execution_count": null,
      "outputs": [
        {
          "output_type": "stream",
          "name": "stdout",
          "text": [
            "mean squared error is: 3.333444444444403e-05\n",
            "r2 score is: 0.9890750076877014\n"
          ]
        }
      ]
    },
    {
      "cell_type": "code",
      "source": [
        "model.fit(x_train,y_train)\n",
        "y_pred=model.predict(x_test)\n",
        "y_train_pred=model.predict(x_train)\n",
        "print(\"mean squared error is:\",mean_squared_error(y_test,y_pred))     #L2 loss function also used to give idea about accuracy of model\n",
        "print(\"r2 score is:\",r2_score(y_test,y_pred))"
      ],
      "metadata": {
        "colab": {
          "base_uri": "https://localhost:8080/"
        },
        "id": "7BirmONncs_0",
        "outputId": "00d125ec-cf49-4e35-d809-37a130dfa8bf"
      },
      "execution_count": null,
      "outputs": [
        {
          "output_type": "stream",
          "name": "stdout",
          "text": [
            "mean squared error is: 1.3699938980631115e-06\n",
            "r2 score is: 0.9995509997825468\n"
          ]
        }
      ]
    },
    {
      "cell_type": "code",
      "source": [
        "y_1=np.append(y_test.reshape(9,1),y_pred.reshape(9,1),axis=1)    #left column contains the actual values and right column contains the predicted values\n",
        "y_1"
      ],
      "metadata": {
        "colab": {
          "base_uri": "https://localhost:8080/"
        },
        "id": "Slacj_vnKGrz",
        "outputId": "ecded19f-34dc-4fdf-8b63-ee1e41927c5a"
      },
      "execution_count": null,
      "outputs": [
        {
          "output_type": "execute_result",
          "data": {
            "text/plain": [
              "array([['0.555', 0.5535123455650819],\n",
              "       ['0.588', 0.5867848188935625],\n",
              "       ['0.495', 0.49427823174554675],\n",
              "       ['0.569', 0.5673977341486545],\n",
              "       ['0.527', 0.5272898879827119],\n",
              "       ['0.579', 0.5771385459883644],\n",
              "       ['0.63', 0.629572035655678],\n",
              "       ['0.446', 0.44734880686027356],\n",
              "       ['0.616', 0.6160218967025521]], dtype=object)"
            ]
          },
          "metadata": {},
          "execution_count": 502
        }
      ]
    },
    {
      "cell_type": "code",
      "source": [
        "years=x_train[:,0]\n",
        "years"
      ],
      "metadata": {
        "colab": {
          "base_uri": "https://localhost:8080/"
        },
        "id": "fefKTjgOiz6i",
        "outputId": "a0fc0a23-b3fd-4f66-97ac-3d4650d68578"
      },
      "execution_count": null,
      "outputs": [
        {
          "output_type": "execute_result",
          "data": {
            "text/plain": [
              "array([2012, 2013, 1994, 1992, 2015, 1996, 2008, 2003, 1997, 2017, 1991,\n",
              "       2006, 1990, 2005, 2019, 2018, 1999, 1998, 2002, 2001, 1995],\n",
              "      dtype=object)"
            ]
          },
          "metadata": {},
          "execution_count": 503
        }
      ]
    },
    {
      "cell_type": "code",
      "source": [
        "key={}\n",
        "for i in range(years.shape[0]):\n",
        "  key[years[i]] = y_train_pred[i]\n",
        "\n",
        "final = {}\n",
        "for i in sorted(key):\n",
        "  final[i] = key[i]\n",
        "\n",
        "\n",
        "plt.plot(list(final.keys()),list(final.values()), color='cyan')\n",
        "plt.title(\"Human Development Index(values) v/s Year\")\n",
        "plt.xlabel(\"Year\")\n",
        "plt.ylabel(\"HDI (values)\")\n",
        "plt.show()"
      ],
      "metadata": {
        "colab": {
          "base_uri": "https://localhost:8080/",
          "height": 295
        },
        "id": "nlCech7cjFU9",
        "outputId": "d12fb42f-cad7-4bbc-ee5b-1fdc9be4cae9"
      },
      "execution_count": null,
      "outputs": [
        {
          "output_type": "display_data",
          "data": {
            "text/plain": [
              "<Figure size 432x288 with 1 Axes>"
            ],
            "image/png": "[encoded data removed]"
          },
          "metadata": {
            "needs_background": "light"
          }
        }
      ]
    },
    {
      "cell_type": "markdown",
      "source": [
        "# ***Finally we are successful in implementing the Linear Regression model and obtain negligible mean squared error and an accuracy of 99.95% to predict HDI of India.***\n"
      ],
      "metadata": {
        "id": "6eT_ssCS2j8z"
      }
    }
  ]
}